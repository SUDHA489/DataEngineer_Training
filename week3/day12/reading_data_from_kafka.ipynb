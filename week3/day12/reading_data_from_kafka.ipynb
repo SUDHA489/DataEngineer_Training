{
 "cells": [
  {
   "cell_type": "code",
   "execution_count": 0,
   "metadata": {
    "application/vnd.databricks.v1+cell": {
     "cellMetadata": {
      "byteLimit": 2048000,
      "rowLimit": 10000
     },
     "inputWidgets": {},
     "nuid": "4bbf8cf2-d889-41ba-b2cd-f61048567861",
     "showTitle": false,
     "tableResultSettingsMap": {},
     "title": ""
    }
   },
   "outputs": [
    {
     "name": "stdout",
     "output_type": "stream",
     "text": [
      "data written to delta\n"
     ]
    }
   ],
   "source": [
    "from pyspark.sql.functions import from_json, col\n",
    "from pyspark.sql.types import *\n",
    "\n",
    "schema = StructType([\n",
    "    StructField(\"transactionId\", StringType()),\n",
    "    StructField(\"cardNumber\", StringType()),\n",
    "    StructField(\"amount\", DoubleType()),\n",
    "    StructField(\"location\", StringType()),\n",
    "    StructField(\"timestamp\", StringType()),\n",
    "    StructField(\"userId\", StringType())\n",
    "])\n",
    "\n",
    "event_hub_config = {\n",
    "    \"kafka.bootstrap.servers\": \"balusudha-kafka-namespace.servicebus.windows.net:9093\",\n",
    "    \"subscribe\": \"transactions\",\n",
    "    \"kafka.security.protocol\": \"SASL_SSL\",\n",
    "    \"kafka.sasl.mechanism\": \"PLAIN\",\n",
    "    \"kafka.sasl.jaas.config\": \"\"\"\n",
    "        org.apache.kafka.common.security.plain.PlainLoginModule required\n",
    "        username=\"$ConnectionString\"\n",
    "        password=\"\"\n",
    "    \"\"\"\n",
    "}\n",
    "\n",
    "df_kafka = spark.readStream.format(\"kafka\").options(**event_hub_config).load()\n",
    "\n",
    "df_json = df_kafka.selectExpr(\"CAST(value AS STRING)\") \\\n",
    "    .withColumn(\"data\", from_json(col(\"value\"), schema)) \\\n",
    "    .select(\"data.*\")\n",
    "\n",
    "sas_token_write = \"\"\n",
    "\n",
    "spark.conf.set(f\"fs.azure.sas.deltatables.balusudhastorageaccount.blob.core.windows.net\",sas_token_write)\n",
    "\n",
    "output_path=f\"wasbs://deltatables@balusudhastorageaccount.blob.core.windows.net/output_files/\"\n",
    "\n",
    "df_json.writeStream \\\n",
    "    .format(\"delta\") \\\n",
    "    .outputMode(\"append\") \\\n",
    "    .option(\"checkpointLocation\", f\"wasbs://deltatables@balusudhastorageaccount.blob.core.windows.net/checkpoints\") \\\n",
    "    .start(output_path)\n",
    "\n",
    "print(\"data written to delta\")"
   ]
  },
  {
   "cell_type": "code",
   "execution_count": 0,
   "metadata": {
    "application/vnd.databricks.v1+cell": {
     "cellMetadata": {
      "byteLimit": 2048000,
      "rowLimit": 10000
     },
     "inputWidgets": {},
     "nuid": "3c97d409-7541-4361-873f-b6a7ac93e29f",
     "showTitle": false,
     "tableResultSettingsMap": {},
     "title": ""
    }
   },
   "outputs": [
    {
     "name": "stdout",
     "output_type": "stream",
     "text": [
      "Total rows: 467\n"
     ]
    }
   ],
   "source": [
    "spark.conf.set(\"fs.azure.account.key.balusudhastorageaccount.blob.core.windows.net\", sas_token_write)\n",
    "df = spark.read.format(\"delta\").load(\n",
    "\n",
    "    \"wasbs://deltatables@balusudhastorageaccount.blob.core.windows.net/output_files\"\n",
    ")\n",
    "\n",
    "print(\"Total rows:\", df.count())\n"
   ]
  }
 ],
 "metadata": {
  "application/vnd.databricks.v1+notebook": {
   "computePreferences": null,
   "dashboards": [],
   "environmentMetadata": {
    "base_environment": "",
    "environment_version": "2"
   },
   "inputWidgetPreferences": null,
   "language": "python",
   "notebookMetadata": {
    "pythonIndentUnit": 4
   },
   "notebookName": "reading_data_from_kafka",
   "widgets": {}
  },
  "language_info": {
   "name": "python"
  }
 },
 "nbformat": 4,
 "nbformat_minor": 0
}
