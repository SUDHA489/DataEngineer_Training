{
 "cells": [
  {
   "cell_type": "code",
   "execution_count": 0,
   "metadata": {
    "application/vnd.databricks.v1+cell": {
     "cellMetadata": {
      "byteLimit": 2048000,
      "rowLimit": 10000
     },
     "inputWidgets": {},
     "nuid": "4df700a3-029e-4cdd-9200-e56c0e73ed83",
     "showTitle": false,
     "tableResultSettingsMap": {},
     "title": ""
    }
   },
   "outputs": [
    {
     "name": "stdout",
     "output_type": "stream",
     "text": [
      "hello\n"
     ]
    }
   ],
   "source": [
    "print(\"hello\")"
   ]
  },
  {
   "cell_type": "code",
   "execution_count": 0,
   "metadata": {
    "application/vnd.databricks.v1+cell": {
     "cellMetadata": {
      "byteLimit": 2048000,
      "rowLimit": 10000
     },
     "inputWidgets": {},
     "nuid": "bcb2ba43-ecf8-44b4-ad65-a58a36994e0f",
     "showTitle": false,
     "tableResultSettingsMap": {},
     "title": ""
    }
   },
   "outputs": [
    {
     "name": "stdout",
     "output_type": "stream",
     "text": [
      "+-----+---------------+----------+---------+--------------------+-----------------+--------------------+--------------------+--------------------+--------------------+-----------------+--------------------+\n",
      "|Index|    Customer Id|First Name|Last Name|             Company|             City|             Country|             Phone 1|             Phone 2|               Email|Subscription Date|             Website|\n",
      "+-----+---------------+----------+---------+--------------------+-----------------+--------------------+--------------------+--------------------+--------------------+-----------------+--------------------+\n",
      "|    1|DD37Cf93aecA6Dc|    Sheryl|   Baxter|     Rasmussen Group|     East Leonard|               Chile|        229.077.5154|    397.884.0519x718|zunigavanessa@smi...|       2020-08-24|http://www.stephe...|\n",
      "|    2|1Ef7b82A4CAAD10|   Preston|   Lozano|         Vega-Gentry|East Jimmychester|            Djibouti|          5153435776|    686-620-1820x944|     vmata@colon.com|       2021-04-23|http://www.hobbs....|\n",
      "|    3|6F94879bDAfE5a6|       Roy|    Berry|       Murillo-Perry|    Isabelborough| Antigua and Barbuda|     +1-539-402-0259| (496)978-3969x58947| beckycarr@hogan.com|       2020-03-25|http://www.lawren...|\n",
      "|    4|5Cef8BFA16c5e3c|     Linda|    Olsen|Dominguez, Mcmill...|       Bensonview|  Dominican Republic|001-808-617-6467x...|     +1-813-324-8756|stanleyblackwell@...|       2020-06-02|http://www.good-l...|\n",
      "|    5|053d585Ab6b3159|    Joanna|   Bender|Martin, Lang and ...|   West Priscilla|Slovakia (Slovak ...|001-234-203-0635x...|001-199-446-3860x...|colinalvarado@mil...|       2021-04-17|https://goodwin-i...|\n",
      "|    6|2d08FB17EE273F4|     Aimee|    Downs|        Steele Group|    Chavezborough|Bosnia and Herzeg...| (283)437-3886x88321|        999-728-1637| louis27@gilbert.com|       2020-02-25|http://www.berger...|\n",
      "|    7|EA4d384DfDbBf77|    Darren|     Peck|Lester, Woodard a...|         Lake Ana|    Pitcairn Islands|  (496)452-6181x3291|+1-247-266-0963x4995| tgates@cantrell.com|       2021-08-24| https://www.le.com/|\n",
      "|    8|0e04AFde9f225dE|     Brett|   Mullen|Sanford, Davenpor...|          Kimport|            Bulgaria|001-583-352-7197x297|    001-333-145-0369|     asnow@colon.com|       2021-04-12|https://hammond-r...|\n",
      "|    9|C2dE4dEEc489ae0|    Sheryl|   Meyers|      Browning-Simon|     Robersonstad|              Cyprus|   854-138-4911x5772| +1-448-910-2276x729|mariokhan@ryan-po...|       2020-01-13|https://www.bullo...|\n",
      "|   10|8C2811a503C7c5a|  Michelle|Gallagher|        Beck-Hendrix|       Elaineberg|         Timor-Leste|    739.218.2516x459|001-054-401-0347x617|   mdyer@escobar.net|       2021-11-08|  https://arias.com/|\n",
      "|   11|216E205d6eBb815|      Carl|Schroeder|Oconnell, Meza an...|     Shannonville|            Guernsey|    637-854-0256x825|    114.336.0784x788|  kirksalas@webb.com|       2021-10-20|https://simmons-h...|\n",
      "|   12|CEDec94deE6d69B|     Jenna|   Dodson|Hoffman, Reed and...|      East Andrea|             Vietnam|       (041)737-3846|+1-556-888-3485x4...|  mark42@robbins.com|       2020-11-29|http://www.dougla...|\n",
      "|   13|e35426EbDEceaFF|    Tracey|     Mata|      Graham-Francis|South Joannamouth|                Togo|    001-949-844-8787|       (855)713-8773|    alex56@walls.org|       2021-12-02|http://www.beck.com/|\n",
      "|   14|A08A8aF8BE9FaD4|  Kristine|      Cox|      Carpenter-Cook|         Jodyberg|           Sri Lanka|  786-284-3358x62152|+1-315-627-1796x8074|holdenmiranda@cla...|       2021-02-08|https://www.brand...|\n",
      "|   15|6fEaA1b7cab7B6C|     Faith|     Lutz|      Carter-Hancock|        Burchbury|           Singapore|  (781)861-7180x8306|        207-185-3665|cassieparrish@ble...|       2022-01-26|http://stevenson....|\n",
      "|   16|8cad0b4CBceaeec|   Miranda|  Beasley|  Singleton and Sons|     Desireeshire|                Oman|    540.085.3135x185|+1-600-462-6432x2...|vduncan@parks-har...|       2022-04-12|  http://acosta.org/|\n",
      "|   17|a5DC21AE3a21eaA|  Caroline|    Foley|     Winters-Mendoza|West Adriennestad|      Western Sahara|   936.222.4746x9924|001-469-948-6341x359|holtgwendolyn@wat...|       2021-03-10|http://www.benson...|\n",
      "|   18|F8Aa9d6DfcBeeF8|      Greg|     Mata|       Valentine LLC|      Lake Leslie|          Mozambique|       (701)087-2415| (195)156-1861x26241|jaredjuarez@carro...|       2022-03-26|http://pitts-cher...|\n",
      "|   19|F160f5Db3EfE973|  Clifford| Jacobson|           Simon LLC|       Harmonview|South Georgia and...|001-151-330-3524x...|       (748)477-7174|joseph26@jacobson...|       2020-09-24|https://mcconnell...|\n",
      "|   20|0F60FF3DdCd7aB0|    Joanna|     Kirk|      Mays-Mccormick|       Jamesshire|    French Polynesia|   (266)131-7001x711| (283)312-5579x11543|tuckerangie@salaz...|       2021-09-24|https://www.camac...|\n",
      "+-----+---------------+----------+---------+--------------------+-----------------+--------------------+--------------------+--------------------+--------------------+-----------------+--------------------+\n",
      "only showing top 20 rows\n",
      "after filtering:-\n",
      "+-----+---------------+----------+-----------+--------------------+-----------------+--------------------+--------------------+--------------------+--------------------+-----------------+--------------------+\n",
      "|Index|    Customer Id|First Name|  Last Name|             Company|             City|             Country|             Phone 1|             Phone 2|               Email|Subscription Date|             Website|\n",
      "+-----+---------------+----------+-----------+--------------------+-----------------+--------------------+--------------------+--------------------+--------------------+-----------------+--------------------+\n",
      "|    1|DD37Cf93aecA6Dc|    Sheryl|     Baxter|     Rasmussen Group|     East Leonard|               Chile|        229.077.5154|    397.884.0519x718|zunigavanessa@smi...|       2020-08-24|http://www.stephe...|\n",
      "|    2|1Ef7b82A4CAAD10|   Preston|     Lozano|         Vega-Gentry|East Jimmychester|            Djibouti|          5153435776|    686-620-1820x944|     vmata@colon.com|       2021-04-23|http://www.hobbs....|\n",
      "|    3|6F94879bDAfE5a6|       Roy|      Berry|       Murillo-Perry|    Isabelborough| Antigua and Barbuda|     +1-539-402-0259| (496)978-3969x58947| beckycarr@hogan.com|       2020-03-25|http://www.lawren...|\n",
      "|    4|5Cef8BFA16c5e3c|     Linda|      Olsen|Dominguez, Mcmill...|       Bensonview|  Dominican Republic|001-808-617-6467x...|     +1-813-324-8756|stanleyblackwell@...|       2020-06-02|http://www.good-l...|\n",
      "|    5|053d585Ab6b3159|    Joanna|     Bender|Martin, Lang and ...|   West Priscilla|Slovakia (Slovak ...|001-234-203-0635x...|001-199-446-3860x...|colinalvarado@mil...|       2021-04-17|https://goodwin-i...|\n",
      "|    6|2d08FB17EE273F4|     Aimee|      Downs|        Steele Group|    Chavezborough|Bosnia and Herzeg...| (283)437-3886x88321|        999-728-1637| louis27@gilbert.com|       2020-02-25|http://www.berger...|\n",
      "|    8|0e04AFde9f225dE|     Brett|     Mullen|Sanford, Davenpor...|          Kimport|            Bulgaria|001-583-352-7197x297|    001-333-145-0369|     asnow@colon.com|       2021-04-12|https://hammond-r...|\n",
      "|    9|C2dE4dEEc489ae0|    Sheryl|     Meyers|      Browning-Simon|     Robersonstad|              Cyprus|   854-138-4911x5772| +1-448-910-2276x729|mariokhan@ryan-po...|       2020-01-13|https://www.bullo...|\n",
      "|   12|CEDec94deE6d69B|     Jenna|     Dodson|Hoffman, Reed and...|      East Andrea|             Vietnam|       (041)737-3846|+1-556-888-3485x4...|  mark42@robbins.com|       2020-11-29|http://www.dougla...|\n",
      "|   14|A08A8aF8BE9FaD4|  Kristine|        Cox|      Carpenter-Cook|         Jodyberg|           Sri Lanka|  786-284-3358x62152|+1-315-627-1796x8074|holdenmiranda@cla...|       2021-02-08|https://www.brand...|\n",
      "|   17|a5DC21AE3a21eaA|  Caroline|      Foley|     Winters-Mendoza|West Adriennestad|      Western Sahara|   936.222.4746x9924|001-469-948-6341x359|holtgwendolyn@wat...|       2021-03-10|http://www.benson...|\n",
      "|   19|F160f5Db3EfE973|  Clifford|   Jacobson|           Simon LLC|       Harmonview|South Georgia and...|001-151-330-3524x...|       (748)477-7174|joseph26@jacobson...|       2020-09-24|https://mcconnell...|\n",
      "|   22|FBd0Ded4F02a742|     Kiara|    Houston|Manning, Hester a...|      South Alvin|         Netherlands|001-274-040-3582x...|+1-528-175-0973x4684|blanchardbob@wall...|       2020-09-15|https://www.reid-...|\n",
      "|   23|2FB0FAA1d429421|   Colleen|     Howard|      Greer and Sons|     Brittanyview|            Paraguay|          1935085151|  (947)115-7711x5488|rsingleton@ryan-c...|       2020-08-19|    http://paul.biz/|\n",
      "|   24|010468dAA11382c|     Janet| Valenzuela|     Watts-Donaldson|    Veronicamouth|Lao People's Demo...|   354.259.5062x7538|        500.433.2022|stefanie71@spence...|       2020-09-08| https://moreno.biz/|\n",
      "|   25|eC1927Ca84E033e|     Shane|     Wilcox|          Tucker LLC|       Bryanville|             Albania| (429)005-9030x11004|        541-116-4501| mariah88@santos.com|       2021-04-06|https://www.ramos...|\n",
      "|   29|3B5dAAFA41AFa22|  Stefanie|Fitzpatrick|       Santana-Duran|     Acevedoville|Saint Vincent and...|       (752)776-3286|+1-472-021-4814x8...|  wterrell@clark.com|       2020-07-30| https://meyers.com/|\n",
      "|   30|EDA69ca7a6e96a2|      Kent|   Bradshaw|          Sawyer PLC|     North Harold|            Tanzania| +1-472-143-5037x884|        126.922.6153|   qjimenez@boyd.com|       2020-04-26|http://maynard-ho...|\n",
      "|   38|7a1Ee69F4fF4B4D|    Jordan|        Gay|     Glover and Sons|     South Walter|     Solomon Islands|          7208417020|          8035336772|tiffanydavies@har...|       2021-02-24| http://www.lee.org/|\n",
      "|   41|2f79Cd309624Abb|   Natalie|     Gentry|          Monroe PLC|      West Darius|  Dominican Republic|        830.996.8238|        499.122.5415|tcummings@fitzpat...|       2020-10-10|http://www.dorsey...|\n",
      "+-----+---------------+----------+-----------+--------------------+-----------------+--------------------+--------------------+--------------------+--------------------+-----------------+--------------------+\n",
      "only showing top 20 rows\n",
      "output stored in parquet\n",
      "loading parquet\n",
      "+-----+---------------+----------+-----------+--------------------+-----------------+--------------------+--------------------+--------------------+--------------------+-----------------+--------------------+\n",
      "|Index|    Customer Id|First Name|  Last Name|             Company|             City|             Country|             Phone 1|             Phone 2|               Email|Subscription Date|             Website|\n",
      "+-----+---------------+----------+-----------+--------------------+-----------------+--------------------+--------------------+--------------------+--------------------+-----------------+--------------------+\n",
      "|    1|DD37Cf93aecA6Dc|    Sheryl|     Baxter|     Rasmussen Group|     East Leonard|               Chile|        229.077.5154|    397.884.0519x718|zunigavanessa@smi...|       2020-08-24|http://www.stephe...|\n",
      "|    2|1Ef7b82A4CAAD10|   Preston|     Lozano|         Vega-Gentry|East Jimmychester|            Djibouti|          5153435776|    686-620-1820x944|     vmata@colon.com|       2021-04-23|http://www.hobbs....|\n",
      "|    3|6F94879bDAfE5a6|       Roy|      Berry|       Murillo-Perry|    Isabelborough| Antigua and Barbuda|     +1-539-402-0259| (496)978-3969x58947| beckycarr@hogan.com|       2020-03-25|http://www.lawren...|\n",
      "|    4|5Cef8BFA16c5e3c|     Linda|      Olsen|Dominguez, Mcmill...|       Bensonview|  Dominican Republic|001-808-617-6467x...|     +1-813-324-8756|stanleyblackwell@...|       2020-06-02|http://www.good-l...|\n",
      "|    5|053d585Ab6b3159|    Joanna|     Bender|Martin, Lang and ...|   West Priscilla|Slovakia (Slovak ...|001-234-203-0635x...|001-199-446-3860x...|colinalvarado@mil...|       2021-04-17|https://goodwin-i...|\n",
      "|    6|2d08FB17EE273F4|     Aimee|      Downs|        Steele Group|    Chavezborough|Bosnia and Herzeg...| (283)437-3886x88321|        999-728-1637| louis27@gilbert.com|       2020-02-25|http://www.berger...|\n",
      "|    8|0e04AFde9f225dE|     Brett|     Mullen|Sanford, Davenpor...|          Kimport|            Bulgaria|001-583-352-7197x297|    001-333-145-0369|     asnow@colon.com|       2021-04-12|https://hammond-r...|\n",
      "|    9|C2dE4dEEc489ae0|    Sheryl|     Meyers|      Browning-Simon|     Robersonstad|              Cyprus|   854-138-4911x5772| +1-448-910-2276x729|mariokhan@ryan-po...|       2020-01-13|https://www.bullo...|\n",
      "|   12|CEDec94deE6d69B|     Jenna|     Dodson|Hoffman, Reed and...|      East Andrea|             Vietnam|       (041)737-3846|+1-556-888-3485x4...|  mark42@robbins.com|       2020-11-29|http://www.dougla...|\n",
      "|   14|A08A8aF8BE9FaD4|  Kristine|        Cox|      Carpenter-Cook|         Jodyberg|           Sri Lanka|  786-284-3358x62152|+1-315-627-1796x8074|holdenmiranda@cla...|       2021-02-08|https://www.brand...|\n",
      "|   17|a5DC21AE3a21eaA|  Caroline|      Foley|     Winters-Mendoza|West Adriennestad|      Western Sahara|   936.222.4746x9924|001-469-948-6341x359|holtgwendolyn@wat...|       2021-03-10|http://www.benson...|\n",
      "|   19|F160f5Db3EfE973|  Clifford|   Jacobson|           Simon LLC|       Harmonview|South Georgia and...|001-151-330-3524x...|       (748)477-7174|joseph26@jacobson...|       2020-09-24|https://mcconnell...|\n",
      "|   22|FBd0Ded4F02a742|     Kiara|    Houston|Manning, Hester a...|      South Alvin|         Netherlands|001-274-040-3582x...|+1-528-175-0973x4684|blanchardbob@wall...|       2020-09-15|https://www.reid-...|\n",
      "|   23|2FB0FAA1d429421|   Colleen|     Howard|      Greer and Sons|     Brittanyview|            Paraguay|          1935085151|  (947)115-7711x5488|rsingleton@ryan-c...|       2020-08-19|    http://paul.biz/|\n",
      "|   24|010468dAA11382c|     Janet| Valenzuela|     Watts-Donaldson|    Veronicamouth|Lao People's Demo...|   354.259.5062x7538|        500.433.2022|stefanie71@spence...|       2020-09-08| https://moreno.biz/|\n",
      "|   25|eC1927Ca84E033e|     Shane|     Wilcox|          Tucker LLC|       Bryanville|             Albania| (429)005-9030x11004|        541-116-4501| mariah88@santos.com|       2021-04-06|https://www.ramos...|\n",
      "|   29|3B5dAAFA41AFa22|  Stefanie|Fitzpatrick|       Santana-Duran|     Acevedoville|Saint Vincent and...|       (752)776-3286|+1-472-021-4814x8...|  wterrell@clark.com|       2020-07-30| https://meyers.com/|\n",
      "|   30|EDA69ca7a6e96a2|      Kent|   Bradshaw|          Sawyer PLC|     North Harold|            Tanzania| +1-472-143-5037x884|        126.922.6153|   qjimenez@boyd.com|       2020-04-26|http://maynard-ho...|\n",
      "|   38|7a1Ee69F4fF4B4D|    Jordan|        Gay|     Glover and Sons|     South Walter|     Solomon Islands|          7208417020|          8035336772|tiffanydavies@har...|       2021-02-24| http://www.lee.org/|\n",
      "|   41|2f79Cd309624Abb|   Natalie|     Gentry|          Monroe PLC|      West Darius|  Dominican Republic|        830.996.8238|        499.122.5415|tcummings@fitzpat...|       2020-10-10|http://www.dorsey...|\n",
      "+-----+---------------+----------+-----------+--------------------+-----------------+--------------------+--------------------+--------------------+--------------------+-----------------+--------------------+\n",
      "only showing top 20 rows\n"
     ]
    }
   ],
   "source": [
    "storage_account = \"balusudhastorageaccount\"\n",
    "container = \"csvfiles\"\n",
    "file_path = \"customers.csv\"\n",
    "sas_token = \"\"\n",
    "spark.conf.set(f\"fs.azure.sas.{container}.{storage_account}.blob.core.windows.net\",sas_token)\n",
    "wasbs_url = f\"wasbs://{container}@{storage_account}.blob.core.windows.net/{file_path}\"\n",
    "df = spark.read.option(\"header\",True).csv(wasbs_url)\n",
    "df.show()\n",
    "\n",
    "print(\"after filtering:-\")\n",
    "sas_token_write = \"\"\n",
    "spark.conf.set(f\"fs.azure.sas.parquetfiles.{storage_account}.blob.core.windows.net\",sas_token_write)\n",
    "df = df.filter(df[\"Subscription Date\"] <= \"2021-04-23\")\n",
    "df.show()\n",
    "df.write.format(\"parquet\").mode(\"overwrite\").save(f\"wasbs://parquetfiles@{storage_account}.blob.core.windows.net/output\")\n",
    "print(\"output stored in parquet\")\n",
    "\n",
    "print(\"loading parquet\")\n",
    "spark.read.format(\"parquet\").load(f\"wasbs://parquetfiles@{storage_account}.blob.core.windows.net/output\").show()"
   ]
  },
  {
   "cell_type": "code",
   "execution_count": 0,
   "metadata": {
    "application/vnd.databricks.v1+cell": {
     "cellMetadata": {},
     "inputWidgets": {},
     "nuid": "264042d6-72c0-4545-8892-47087e411335",
     "showTitle": false,
     "tableResultSettingsMap": {},
     "title": ""
    }
   },
   "outputs": [],
   "source": []
  }
 ],
 "metadata": {
  "application/vnd.databricks.v1+notebook": {
   "computePreferences": null,
   "dashboards": [],
   "environmentMetadata": {
    "base_environment": "",
    "environment_version": "2"
   },
   "inputWidgetPreferences": null,
   "language": "python",
   "notebookMetadata": {
    "pythonIndentUnit": 4
   },
   "notebookName": "autoloader",
   "widgets": {}
  },
  "language_info": {
   "name": "python"
  }
 },
 "nbformat": 4,
 "nbformat_minor": 0
}
