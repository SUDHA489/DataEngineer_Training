{
 "cells": [
  {
   "cell_type": "code",
   "execution_count": 0,
   "metadata": {
    "application/vnd.databricks.v1+cell": {
     "cellMetadata": {
      "byteLimit": 2048000,
      "rowLimit": 10000
     },
     "inputWidgets": {},
     "nuid": "4bbf8cf2-d889-41ba-b2cd-f61048567861",
     "showTitle": false,
     "tableResultSettingsMap": {},
     "title": ""
    }
   },
   "outputs": [
    {
     "output_type": "stream",
     "name": "stdout",
     "output_type": "stream",
     "text": [
      "data written to delta\n"
     ]
    }
   ],
   "source": [
    "from pyspark.sql.functions import from_json, col\n",
    "from pyspark.sql.types import *\n",
    "\n",
    "schema = StructType([\n",
    "    StructField(\"transactionId\", StringType()),\n",
    "    StructField(\"cardNumber\", StringType()),\n",
    "    StructField(\"amount\", DoubleType()),\n",
    "    StructField(\"location\", StringType()),\n",
    "    StructField(\"timestamp\", StringType()),\n",
    "    StructField(\"userId\", StringType())\n",
    "])\n",
    "\n",
    "event_hub_config = {\n",
    "    \"kafka.bootstrap.servers\": \"balusudha-kafka-namespace.servicebus.windows.net:9093\",\n",
    "    \"subscribe\": \"transactions\",\n",
    "    \"kafka.security.protocol\": \"SASL_SSL\",\n",
    "    \"kafka.sasl.mechanism\": \"PLAIN\",\n",
    "    \"kafka.sasl.jaas.config\": \"\"\"\n",
    "        org.apache.kafka.common.security.plain.PlainLoginModule required\n",
    "        username=\"$ConnectionString\"\n",
    "        password=\"Endpoint=sb://balusudha-kafka-namespace.servicebus.windows.net/;SharedAccessKeyName=RootManageSharedAccessKey;SharedAccessKey=ESenVx8WkrhMzJeYVzPYwSUFyj0XAPV+L+AEhKow1vk=\";\n",
    "    \"\"\"\n",
    "}\n",
    "\n",
    "df_kafka = spark.readStream.format(\"kafka\").options(**event_hub_config).load()\n",
    "\n",
    "df_json = df_kafka.selectExpr(\"CAST(value AS STRING)\") \\\n",
    "    .withColumn(\"data\", from_json(col(\"value\"), schema)) \\\n",
    "    .select(\"data.*\")\n",
    "\n",
    "sas_token_write = \"sp=racwdl&st=2025-08-01T10:01:33Z&se=2025-08-01T18:16:33Z&spr=https&sv=2024-11-04&sr=c&sig=UnDZ1dX99v0qobX4Amu6CdT7e2i9KPN3cE%2F8XFt45mQ%3D\"\n",
    "\n",
    "spark.conf.set(f\"fs.azure.sas.deltatables.balusudhastorageaccount.blob.core.windows.net\",sas_token_write)\n",
    "\n",
    "output_path=f\"wasbs://deltatables@balusudhastorageaccount.blob.core.windows.net/output_files/\"\n",
    "\n",
    "df_json.writeStream \\\n",
    "    .format(\"delta\") \\\n",
    "    .outputMode(\"append\") \\\n",
    "    .option(\"checkpointLocation\", f\"wasbs://deltatables@balusudhastorageaccount.blob.core.windows.net/checkpoints\") \\\n",
    "    .start(output_path)\n",
    "\n",
    "print(\"data written to delta\")"
   ]
  },
  {
   "cell_type": "code",
   "execution_count": 0,
   "metadata": {
    "application/vnd.databricks.v1+cell": {
     "cellMetadata": {
      "byteLimit": 2048000,
      "rowLimit": 10000
     },
     "inputWidgets": {},
     "nuid": "3c97d409-7541-4361-873f-b6a7ac93e29f",
     "showTitle": false,
     "tableResultSettingsMap": {},
     "title": ""
    }
   },
   "outputs": [
    {
     "output_type": "stream",
     "name": "stdout",
     "output_type": "stream",
     "text": [
      "148\n"
     ]
    }
   ],
   "source": [
    "sas_token = \"sp=racwdl&st=2025-08-01T10:01:33Z&se=2025-08-01T18:16:33Z&spr=https&sv=2024-11-04&sr=c&sig=UnDZ1dX99v0qobX4Amu6CdT7e2i9KPN3cE%2F8XFt45mQ%3D\"\n",
    "storage_account = \"balusudhastorageaccount\"\n",
    "container = \"deltatables\"\n",
    "delta_path = \"output_files\"\n",
    "\n",
    "spark.conf.set(\n",
    "    f\"fs.azure.sas.{container}.{storage_account}.blob.core.windows.net\",\n",
    "    sas_token\n",
    ")\n",
    "\n",
    "df = spark.read.format(\"delta\").load(f\"wasbs://{container}@{storage_account}.blob.core.windows.net/{delta_path}\")\n",
    "\n",
    "print(df.count())\n"
   ]
  },
  {
   "cell_type": "code",
   "execution_count": 0,
   "metadata": {
    "application/vnd.databricks.v1+cell": {
     "cellMetadata": {
      "byteLimit": 2048000,
      "rowLimit": 10000
     },
     "inputWidgets": {},
     "nuid": "d99e754d-3133-4f60-820c-56231ffc6135",
     "showTitle": false,
     "tableResultSettingsMap": {},
     "title": ""
    }
   },
   "outputs": [],
   "source": [
    "# %pip install great_expectations==0.15.39\n",
    "%restart_python"
   ]
  },
  {
   "cell_type": "code",
   "execution_count": 0,
   "metadata": {
    "application/vnd.databricks.v1+cell": {
     "cellMetadata": {
      "byteLimit": 2048000,
      "rowLimit": 10000
     },
     "inputWidgets": {},
     "nuid": "07c1ad74-0e1e-4ec0-b81f-dbdf83bbf8c8",
     "showTitle": false,
     "tableResultSettingsMap": {},
     "title": ""
    }
   },
   "outputs": [
    {
     "output_type": "stream",
     "name": "stdout",
     "output_type": "stream",
     "text": [
      "{\n  \"success\": true,\n  \"results\": [\n    {\n      \"success\": true,\n      \"expectation_config\": {\n        \"expectation_type\": \"expect_column_values_to_be_between\",\n        \"kwargs\": {\n          \"column\": \"amount\",\n          \"min_value\": 1,\n          \"max_value\": 500000,\n          \"result_format\": \"BASIC\"\n        },\n        \"meta\": {}\n      },\n      \"result\": {\n        \"element_count\": 148,\n        \"missing_count\": 0,\n        \"missing_percent\": 0.0,\n        \"unexpected_count\": 0,\n        \"unexpected_percent\": 0.0,\n        \"unexpected_percent_total\": 0.0,\n        \"unexpected_percent_nonmissing\": 0.0,\n        \"partial_unexpected_list\": []\n      },\n      \"meta\": {},\n      \"exception_info\": {\n        \"raised_exception\": false,\n        \"exception_message\": null,\n        \"exception_traceback\": null\n      }\n    },\n    {\n      \"success\": true,\n      \"expectation_config\": {\n        \"expectation_type\": \"expect_column_values_to_not_be_null\",\n        \"kwargs\": {\n          \"column\": \"timestamp\",\n          \"result_format\": \"BASIC\"\n        },\n        \"meta\": {}\n      },\n      \"result\": {\n        \"element_count\": 148,\n        \"unexpected_count\": 0,\n        \"unexpected_percent\": 0.0,\n        \"unexpected_percent_total\": 0.0,\n        \"partial_unexpected_list\": []\n      },\n      \"meta\": {},\n      \"exception_info\": {\n        \"raised_exception\": false,\n        \"exception_message\": null,\n        \"exception_traceback\": null\n      }\n    },\n    {\n      \"success\": true,\n      \"expectation_config\": {\n        \"expectation_type\": \"expect_column_value_lengths_to_be_between\",\n        \"kwargs\": {\n          \"column\": \"cardNumber\",\n          \"min_value\": 13,\n          \"max_value\": 19,\n          \"result_format\": \"BASIC\"\n        },\n        \"meta\": {}\n      },\n      \"result\": {\n        \"element_count\": 148,\n        \"missing_count\": 0,\n        \"missing_percent\": 0.0,\n        \"unexpected_count\": 0,\n        \"unexpected_percent\": 0.0,\n        \"unexpected_percent_total\": 0.0,\n        \"unexpected_percent_nonmissing\": 0.0,\n        \"partial_unexpected_list\": []\n      },\n      \"meta\": {},\n      \"exception_info\": {\n        \"raised_exception\": false,\n        \"exception_message\": null,\n        \"exception_traceback\": null\n      }\n    }\n  ],\n  \"evaluation_parameters\": {},\n  \"statistics\": {\n    \"evaluated_expectations\": 3,\n    \"successful_expectations\": 3,\n    \"unsuccessful_expectations\": 0,\n    \"success_percent\": 100.0\n  },\n  \"meta\": {\n    \"great_expectations_version\": \"0.15.39\",\n    \"expectation_suite_name\": \"default\",\n    \"run_id\": {\n      \"run_name\": null,\n      \"run_time\": \"2025-08-01T11:56:09.165685+00:00\"\n    },\n    \"batch_kwargs\": {\n      \"ge_batch_id\": \"823b6d4c-6ece-11f0-8267-00163eff97e6\"\n    },\n    \"batch_markers\": {},\n    \"batch_parameters\": {},\n    \"validation_time\": \"20250801T115609.165620Z\",\n    \"expectation_suite_meta\": {\n      \"great_expectations_version\": \"0.15.39\"\n    }\n  }\n}\n"
     ]
    }
   ],
   "source": [
    "from great_expectations.dataset import SparkDFDataset\n",
    "\n",
    "\n",
    "storage_account = \"balusudhastorageaccount\"\n",
    "container = \"deltatables\"\n",
    "delta_path = \"output_files\"\n",
    "df = spark.read.format(\"delta\").load(f\"wasbs://{container}@{storage_account}.blob.core.windows.net/{delta_path}\")\n",
    "ge_df = SparkDFDataset(df)\n",
    "\n",
    "ge_df.expect_column_values_to_be_between(\"amount\", 1, 500000)\n",
    "ge_df.expect_column_values_to_not_be_null(\"timestamp\")\n",
    "ge_df.expect_column_value_lengths_to_be_between(\"cardNumber\", 13, 19)\n",
    "\n",
    "validation_result = ge_df.validate()\n",
    "print(validation_result)\n",
    "\n",
    "ge_df.save_expectation_suite(\"fraud_detection_expectations\")"
   ]
  },
  {
   "cell_type": "code",
   "execution_count": 0,
   "metadata": {
    "application/vnd.databricks.v1+cell": {
     "cellMetadata": {
      "byteLimit": 2048000,
      "rowLimit": 10000
     },
     "inputWidgets": {},
     "nuid": "fbfdcdde-eaf1-4bd5-ad74-d72a759c5d18",
     "showTitle": false,
     "tableResultSettingsMap": {},
     "title": ""
    }
   },
   "outputs": [],
   "source": [
    "from pyspark.sql.functions import length\n",
    "\n",
    "silver_df = df.filter(\n",
    "    (df.amount >= 1) &\n",
    "    (df.amount <= 500000) &\n",
    "    (df.timestamp.isNotNull()) &\n",
    "    (length(df.cardNumber) >= 13) &\n",
    "    (length(df.cardNumber) <= 19)\n",
    ")\n",
    "\n",
    "\n",
    "silver_path = \"silver_output_files\"\n",
    "\n",
    "silver_df.write.format(\"delta\").mode(\"overwrite\").save(\n",
    "    f\"wasbs://{container}@{storage_account}.blob.core.windows.net/{silver_path}\"\n",
    ")\n",
    "\n",
    "\n",
    "silver_df.write.format(\"delta\").mode(\"overwrite\").saveAsTable(\"silver_sales_data\")\n",
    "\n",
    "spark.sql(\"SELECT * FROM silver_sales_data\").show()\n"
   ]
  },
  {
   "cell_type": "code",
   "execution_count": 0,
   "metadata": {
    "application/vnd.databricks.v1+cell": {
     "cellMetadata": {
      "byteLimit": 2048000,
      "rowLimit": 10000
     },
     "inputWidgets": {},
     "nuid": "9fba6735-6870-4670-bb3e-e9924a8b0de9",
     "showTitle": false,
     "tableResultSettingsMap": {},
     "title": ""
    }
   },
   "outputs": [
    {
     "output_type": "stream",
     "name": "stdout",
     "output_type": "stream",
     "text": [
      "+---------+------------------+----------------+\n| location|       total_sales|unique_customers|\n+---------+------------------+----------------+\n|Bangalore|        2369930.89|              43|\n|   London|        1053685.52|              26|\n|   Mumbai|        1309563.25|              25|\n|    Delhi|1417256.7900000003|              30|\n|      NYC|        1072501.31|              23|\n+---------+------------------+----------------+\n\n"
     ]
    }
   ],
   "source": [
    "from pyspark.sql.functions import *\n",
    "\n",
    "gold_df = (\n",
    "    silver_df\n",
    "    .groupBy(\"location\")\n",
    "    .agg(\n",
    "        sum(\"amount\").alias(\"total_sales\"),\n",
    "        countDistinct(\"cardNumber\").alias(\"unique_customers\")\n",
    "    )\n",
    ")\n",
    "\n",
    "gold_df.write.format(\"delta\").mode(\"overwrite\").saveAsTable(\"gold_sales_summary\")\n",
    "\n",
    "spark.sql(\"select * from gold_sales_summary\").show()\n"
   ]
  }
 ],
 "metadata": {
  "application/vnd.databricks.v1+notebook": {
   "computePreferences": null,
   "dashboards": [],
   "environmentMetadata": {
    "base_environment": "",
    "environment_version": "2"
   },
   "inputWidgetPreferences": null,
   "language": "python",
   "notebookMetadata": {
    "pythonIndentUnit": 4
   },
   "notebookName": "reading_data_from_kafka",
   "widgets": {}
  },
  "language_info": {
   "name": "python"
  }
 },
 "nbformat": 4,
 "nbformat_minor": 0
}