{
 "cells": [
  {
   "cell_type": "code",
   "execution_count": 0,
   "metadata": {
    "application/vnd.databricks.v1+cell": {
     "cellMetadata": {
      "byteLimit": 2048000,
      "rowLimit": 10000
     },
     "inputWidgets": {},
     "nuid": "9cf1cc51-4051-4b40-b286-d22ae745a2b4",
     "showTitle": false,
     "tableResultSettingsMap": {},
     "title": ""
    }
   },
   "outputs": [
    {
     "name": "stdout",
     "output_type": "stream",
     "text": [
      "hello, hi this is week case study\n"
     ]
    }
   ],
   "source": [
    "print(\"hello, hi this is week case study\")"
   ]
  },
  {
   "cell_type": "code",
   "execution_count": 0,
   "metadata": {
    "application/vnd.databricks.v1+cell": {
     "cellMetadata": {
      "byteLimit": 2048000,
      "rowLimit": 10000
     },
     "inputWidgets": {},
     "nuid": "3f287a61-d3e3-446f-b09f-b8f4367a69d3",
     "showTitle": false,
     "tableResultSettingsMap": {},
     "title": ""
    }
   },
   "outputs": [
    {
     "name": "stdout",
     "output_type": "stream",
     "text": [
      "Requirement already satisfied: great_expectations==0.15.39 in /local_disk0/.ephemeral_nfs/envs/pythonEnv-4e801dbd-70b1-46a7-9adf-fdf568e9ffa9/lib/python3.12/site-packages (0.15.39)\n",
      "Requirement already satisfied: altair<5,>=4.0.0 in /local_disk0/.ephemeral_nfs/envs/pythonEnv-4e801dbd-70b1-46a7-9adf-fdf568e9ffa9/lib/python3.12/site-packages (from great_expectations==0.15.39) (4.2.2)\n",
      "Requirement already satisfied: Click>=7.1.2 in /databricks/python3/lib/python3.12/site-packages (from great_expectations==0.15.39) (8.1.7)\n",
      "Requirement already satisfied: colorama>=0.4.3 in /local_disk0/.ephemeral_nfs/envs/pythonEnv-4e801dbd-70b1-46a7-9adf-fdf568e9ffa9/lib/python3.12/site-packages (from great_expectations==0.15.39) (0.4.6)\n",
      "Requirement already satisfied: cryptography>=3.2 in /databricks/python3/lib/python3.12/site-packages (from great_expectations==0.15.39) (42.0.5)\n",
      "Requirement already satisfied: importlib-metadata>=1.7.0 in /databricks/python3/lib/python3.12/site-packages (from great_expectations==0.15.39) (6.0.0)\n",
      "Requirement already satisfied: Ipython>=7.16.3 in /databricks/python3/lib/python3.12/site-packages (from great_expectations==0.15.39) (8.25.0)\n",
      "Requirement already satisfied: ipywidgets>=7.5.1 in /databricks/python3/lib/python3.12/site-packages (from great_expectations==0.15.39) (7.7.2)\n",
      "Requirement already satisfied: jinja2>=2.10 in /local_disk0/.ephemeral_nfs/envs/pythonEnv-4e801dbd-70b1-46a7-9adf-fdf568e9ffa9/lib/python3.12/site-packages (from great_expectations==0.15.39) (3.1.6)\n",
      "Requirement already satisfied: jsonpatch>=1.22 in /local_disk0/.ephemeral_nfs/envs/pythonEnv-4e801dbd-70b1-46a7-9adf-fdf568e9ffa9/lib/python3.12/site-packages (from great_expectations==0.15.39) (1.33)\n",
      "Requirement already satisfied: jsonschema>=2.5.1 in /local_disk0/.ephemeral_nfs/envs/pythonEnv-4e801dbd-70b1-46a7-9adf-fdf568e9ffa9/lib/python3.12/site-packages (from great_expectations==0.15.39) (4.25.0)\n",
      "Requirement already satisfied: makefun<2,>=1.7.0 in /local_disk0/.ephemeral_nfs/envs/pythonEnv-4e801dbd-70b1-46a7-9adf-fdf568e9ffa9/lib/python3.12/site-packages (from great_expectations==0.15.39) (1.16.0)\n",
      "Requirement already satisfied: marshmallow<4.0.0,>=3.7.1 in /local_disk0/.ephemeral_nfs/envs/pythonEnv-4e801dbd-70b1-46a7-9adf-fdf568e9ffa9/lib/python3.12/site-packages (from great_expectations==0.15.39) (3.26.1)\n",
      "Requirement already satisfied: mistune>=0.8.4 in /local_disk0/.ephemeral_nfs/envs/pythonEnv-4e801dbd-70b1-46a7-9adf-fdf568e9ffa9/lib/python3.12/site-packages (from great_expectations==0.15.39) (3.1.3)\n",
      "Requirement already satisfied: nbformat>=5.0 in /local_disk0/.ephemeral_nfs/envs/pythonEnv-4e801dbd-70b1-46a7-9adf-fdf568e9ffa9/lib/python3.12/site-packages (from great_expectations==0.15.39) (5.10.4)\n",
      "Requirement already satisfied: notebook>=6.4.10 in /local_disk0/.ephemeral_nfs/envs/pythonEnv-4e801dbd-70b1-46a7-9adf-fdf568e9ffa9/lib/python3.12/site-packages (from great_expectations==0.15.39) (7.4.5)\n",
      "Requirement already satisfied: numpy>=1.18.5 in /databricks/python3/lib/python3.12/site-packages (from great_expectations==0.15.39) (1.26.4)\n",
      "Requirement already satisfied: packaging in /databricks/python3/lib/python3.12/site-packages (from great_expectations==0.15.39) (24.1)\n",
      "Requirement already satisfied: pandas>=1.1.0 in /databricks/python3/lib/python3.12/site-packages (from great_expectations==0.15.39) (1.5.3)\n",
      "Requirement already satisfied: pydantic<2.0,>=1.0 in /local_disk0/.ephemeral_nfs/envs/pythonEnv-4e801dbd-70b1-46a7-9adf-fdf568e9ffa9/lib/python3.12/site-packages (from great_expectations==0.15.39) (1.10.22)\n",
      "Requirement already satisfied: pyparsing>=2.4 in /databricks/python3/lib/python3.12/site-packages (from great_expectations==0.15.39) (3.0.9)\n",
      "Requirement already satisfied: python-dateutil>=2.8.1 in /databricks/python3/lib/python3.12/site-packages (from great_expectations==0.15.39) (2.9.0.post0)\n",
      "Requirement already satisfied: pytz>=2021.3 in /databricks/python3/lib/python3.12/site-packages (from great_expectations==0.15.39) (2024.1)\n",
      "Requirement already satisfied: requests>=2.20 in /databricks/python3/lib/python3.12/site-packages (from great_expectations==0.15.39) (2.32.2)\n",
      "Requirement already satisfied: ruamel.yaml<0.17.18,>=0.16 in /local_disk0/.ephemeral_nfs/envs/pythonEnv-4e801dbd-70b1-46a7-9adf-fdf568e9ffa9/lib/python3.12/site-packages (from great_expectations==0.15.39) (0.17.17)\n",
      "Requirement already satisfied: scipy>=0.19.0 in /databricks/python3/lib/python3.12/site-packages (from great_expectations==0.15.39) (1.13.1)\n",
      "Requirement already satisfied: tqdm>=4.59.0 in /local_disk0/.ephemeral_nfs/envs/pythonEnv-4e801dbd-70b1-46a7-9adf-fdf568e9ffa9/lib/python3.12/site-packages (from great_expectations==0.15.39) (4.67.1)\n",
      "Requirement already satisfied: typing-extensions>=3.10.0.0 in /databricks/python3/lib/python3.12/site-packages (from great_expectations==0.15.39) (4.11.0)\n",
      "Requirement already satisfied: tzlocal>=1.2 in /local_disk0/.ephemeral_nfs/envs/pythonEnv-4e801dbd-70b1-46a7-9adf-fdf568e9ffa9/lib/python3.12/site-packages (from great_expectations==0.15.39) (5.3.1)\n",
      "Requirement already satisfied: urllib3<1.27,>=1.25.4 in /databricks/python3/lib/python3.12/site-packages (from great_expectations==0.15.39) (1.26.16)\n",
      "Requirement already satisfied: entrypoints in /local_disk0/.ephemeral_nfs/envs/pythonEnv-4e801dbd-70b1-46a7-9adf-fdf568e9ffa9/lib/python3.12/site-packages (from altair<5,>=4.0.0->great_expectations==0.15.39) (0.4)\n",
      "Requirement already satisfied: toolz in /local_disk0/.ephemeral_nfs/envs/pythonEnv-4e801dbd-70b1-46a7-9adf-fdf568e9ffa9/lib/python3.12/site-packages (from altair<5,>=4.0.0->great_expectations==0.15.39) (1.0.0)\n",
      "Requirement already satisfied: cffi>=1.12 in /databricks/python3/lib/python3.12/site-packages (from cryptography>=3.2->great_expectations==0.15.39) (1.16.0)\n",
      "Requirement already satisfied: zipp>=0.5 in /databricks/python3/lib/python3.12/site-packages (from importlib-metadata>=1.7.0->great_expectations==0.15.39) (3.17.0)\n",
      "Requirement already satisfied: decorator in /databricks/python3/lib/python3.12/site-packages (from Ipython>=7.16.3->great_expectations==0.15.39) (5.1.1)\n",
      "Requirement already satisfied: jedi>=0.16 in /databricks/python3/lib/python3.12/site-packages (from Ipython>=7.16.3->great_expectations==0.15.39) (0.19.1)\n",
      "Requirement already satisfied: matplotlib-inline in /databricks/python3/lib/python3.12/site-packages (from Ipython>=7.16.3->great_expectations==0.15.39) (0.1.6)\n",
      "Requirement already satisfied: prompt-toolkit<3.1.0,>=3.0.41 in /databricks/python3/lib/python3.12/site-packages (from Ipython>=7.16.3->great_expectations==0.15.39) (3.0.43)\n",
      "Requirement already satisfied: pygments>=2.4.0 in /databricks/python3/lib/python3.12/site-packages (from Ipython>=7.16.3->great_expectations==0.15.39) (2.15.1)\n",
      "Requirement already satisfied: stack-data in /databricks/python3/lib/python3.12/site-packages (from Ipython>=7.16.3->great_expectations==0.15.39) (0.2.0)\n",
      "Requirement already satisfied: traitlets>=5.13.0 in /databricks/python3/lib/python3.12/site-packages (from Ipython>=7.16.3->great_expectations==0.15.39) (5.14.3)\n",
      "Requirement already satisfied: pexpect>4.3 in /databricks/python3/lib/python3.12/site-packages (from Ipython>=7.16.3->great_expectations==0.15.39) (4.8.0)\n",
      "Requirement already satisfied: ipykernel>=4.5.1 in /databricks/python3/lib/python3.12/site-packages (from ipywidgets>=7.5.1->great_expectations==0.15.39) (6.28.0)\n",
      "Requirement already satisfied: ipython-genutils~=0.2.0 in /databricks/python3/lib/python3.12/site-packages (from ipywidgets>=7.5.1->great_expectations==0.15.39) (0.2.0)\n",
      "Requirement already satisfied: MarkupSafe>=2.0 in /local_disk0/.ephemeral_nfs/envs/pythonEnv-4e801dbd-70b1-46a7-9adf-fdf568e9ffa9/lib/python3.12/site-packages (from jinja2>=2.10->great_expectations==0.15.39) (3.0.2)\n",
      "Requirement already satisfied: jsonpointer>=1.9 in /local_disk0/.ephemeral_nfs/envs/pythonEnv-4e801dbd-70b1-46a7-9adf-fdf568e9ffa9/lib/python3.12/site-packages (from jsonpatch>=1.22->great_expectations==0.15.39) (3.0.0)\n",
      "Requirement already satisfied: attrs>=22.2.0 in /local_disk0/.ephemeral_nfs/envs/pythonEnv-4e801dbd-70b1-46a7-9adf-fdf568e9ffa9/lib/python3.12/site-packages (from jsonschema>=2.5.1->great_expectations==0.15.39) (25.3.0)\n",
      "Requirement already satisfied: jsonschema-specifications>=2023.03.6 in /local_disk0/.ephemeral_nfs/envs/pythonEnv-4e801dbd-70b1-46a7-9adf-fdf568e9ffa9/lib/python3.12/site-packages (from jsonschema>=2.5.1->great_expectations==0.15.39) (2025.4.1)\n",
      "Requirement already satisfied: referencing>=0.28.4 in /local_disk0/.ephemeral_nfs/envs/pythonEnv-4e801dbd-70b1-46a7-9adf-fdf568e9ffa9/lib/python3.12/site-packages (from jsonschema>=2.5.1->great_expectations==0.15.39) (0.36.2)\n",
      "Requirement already satisfied: rpds-py>=0.7.1 in /local_disk0/.ephemeral_nfs/envs/pythonEnv-4e801dbd-70b1-46a7-9adf-fdf568e9ffa9/lib/python3.12/site-packages (from jsonschema>=2.5.1->great_expectations==0.15.39) (0.27.0)\n",
      "Requirement already satisfied: fastjsonschema>=2.15 in /local_disk0/.ephemeral_nfs/envs/pythonEnv-4e801dbd-70b1-46a7-9adf-fdf568e9ffa9/lib/python3.12/site-packages (from nbformat>=5.0->great_expectations==0.15.39) (2.21.1)\n",
      "Requirement already satisfied: jupyter-core!=5.0.*,>=4.12 in /databricks/python3/lib/python3.12/site-packages (from nbformat>=5.0->great_expectations==0.15.39) (5.7.2)\n",
      "Requirement already satisfied: jupyter-server<3,>=2.4.0 in /local_disk0/.ephemeral_nfs/envs/pythonEnv-4e801dbd-70b1-46a7-9adf-fdf568e9ffa9/lib/python3.12/site-packages (from notebook>=6.4.10->great_expectations==0.15.39) (2.16.0)\n",
      "Requirement already satisfied: jupyterlab-server<3,>=2.27.1 in /local_disk0/.ephemeral_nfs/envs/pythonEnv-4e801dbd-70b1-46a7-9adf-fdf568e9ffa9/lib/python3.12/site-packages (from notebook>=6.4.10->great_expectations==0.15.39) (2.27.3)\n",
      "Requirement already satisfied: jupyterlab<4.5,>=4.4.5 in /local_disk0/.ephemeral_nfs/envs/pythonEnv-4e801dbd-70b1-46a7-9adf-fdf568e9ffa9/lib/python3.12/site-packages (from notebook>=6.4.10->great_expectations==0.15.39) (4.4.5)\n",
      "Requirement already satisfied: notebook-shim<0.3,>=0.2 in /local_disk0/.ephemeral_nfs/envs/pythonEnv-4e801dbd-70b1-46a7-9adf-fdf568e9ffa9/lib/python3.12/site-packages (from notebook>=6.4.10->great_expectations==0.15.39) (0.2.4)\n",
      "Requirement already satisfied: tornado>=6.2.0 in /databricks/python3/lib/python3.12/site-packages (from notebook>=6.4.10->great_expectations==0.15.39) (6.4.1)\n",
      "Requirement already satisfied: six>=1.5 in /usr/lib/python3/dist-packages (from python-dateutil>=2.8.1->great_expectations==0.15.39) (1.16.0)\n",
      "Requirement already satisfied: charset-normalizer<4,>=2 in /databricks/python3/lib/python3.12/site-packages (from requests>=2.20->great_expectations==0.15.39) (2.0.4)\n",
      "Requirement already satisfied: idna<4,>=2.5 in /databricks/python3/lib/python3.12/site-packages (from requests>=2.20->great_expectations==0.15.39) (3.7)\n",
      "Requirement already satisfied: certifi>=2017.4.17 in /databricks/python3/lib/python3.12/site-packages (from requests>=2.20->great_expectations==0.15.39) (2024.6.2)\n",
      "Requirement already satisfied: pycparser in /databricks/python3/lib/python3.12/site-packages (from cffi>=1.12->cryptography>=3.2->great_expectations==0.15.39) (2.21)\n",
      "Requirement already satisfied: comm>=0.1.1 in /databricks/python3/lib/python3.12/site-packages (from ipykernel>=4.5.1->ipywidgets>=7.5.1->great_expectations==0.15.39) (0.2.1)\n",
      "Requirement already satisfied: debugpy>=1.6.5 in /databricks/python3/lib/python3.12/site-packages (from ipykernel>=4.5.1->ipywidgets>=7.5.1->great_expectations==0.15.39) (1.6.7)\n",
      "Requirement already satisfied: jupyter-client>=6.1.12 in /databricks/python3/lib/python3.12/site-packages (from ipykernel>=4.5.1->ipywidgets>=7.5.1->great_expectations==0.15.39) (8.6.0)\n",
      "Requirement already satisfied: nest-asyncio in /databricks/python3/lib/python3.12/site-packages (from ipykernel>=4.5.1->ipywidgets>=7.5.1->great_expectations==0.15.39) (1.6.0)\n",
      "Requirement already satisfied: psutil in /databricks/python3/lib/python3.12/site-packages (from ipykernel>=4.5.1->ipywidgets>=7.5.1->great_expectations==0.15.39) (5.9.0)\n",
      "Requirement already satisfied: pyzmq>=24 in /databricks/python3/lib/python3.12/site-packages (from ipykernel>=4.5.1->ipywidgets>=7.5.1->great_expectations==0.15.39) (25.1.2)\n",
      "Requirement already satisfied: parso<0.9.0,>=0.8.3 in /databricks/python3/lib/python3.12/site-packages (from jedi>=0.16->Ipython>=7.16.3->great_expectations==0.15.39) (0.8.3)\n",
      "Requirement already satisfied: platformdirs>=2.5 in /databricks/python3/lib/python3.12/site-packages (from jupyter-core!=5.0.*,>=4.12->nbformat>=5.0->great_expectations==0.15.39) (3.10.0)\n",
      "Requirement already satisfied: anyio>=3.1.0 in /local_disk0/.ephemeral_nfs/envs/pythonEnv-4e801dbd-70b1-46a7-9adf-fdf568e9ffa9/lib/python3.12/site-packages (from jupyter-server<3,>=2.4.0->notebook>=6.4.10->great_expectations==0.15.39) (4.10.0)\n",
      "Requirement already satisfied: argon2-cffi>=21.1 in /local_disk0/.ephemeral_nfs/envs/pythonEnv-4e801dbd-70b1-46a7-9adf-fdf568e9ffa9/lib/python3.12/site-packages (from jupyter-server<3,>=2.4.0->notebook>=6.4.10->great_expectations==0.15.39) (25.1.0)\n",
      "Requirement already satisfied: jupyter-events>=0.11.0 in /local_disk0/.ephemeral_nfs/envs/pythonEnv-4e801dbd-70b1-46a7-9adf-fdf568e9ffa9/lib/python3.12/site-packages (from jupyter-server<3,>=2.4.0->notebook>=6.4.10->great_expectations==0.15.39) (0.12.0)\n",
      "Requirement already satisfied: jupyter-server-terminals>=0.4.4 in /local_disk0/.ephemeral_nfs/envs/pythonEnv-4e801dbd-70b1-46a7-9adf-fdf568e9ffa9/lib/python3.12/site-packages (from jupyter-server<3,>=2.4.0->notebook>=6.4.10->great_expectations==0.15.39) (0.5.3)\n",
      "Requirement already satisfied: nbconvert>=6.4.4 in /local_disk0/.ephemeral_nfs/envs/pythonEnv-4e801dbd-70b1-46a7-9adf-fdf568e9ffa9/lib/python3.12/site-packages (from jupyter-server<3,>=2.4.0->notebook>=6.4.10->great_expectations==0.15.39) (7.16.6)\n",
      "Requirement already satisfied: overrides>=5.0 in /local_disk0/.ephemeral_nfs/envs/pythonEnv-4e801dbd-70b1-46a7-9adf-fdf568e9ffa9/lib/python3.12/site-packages (from jupyter-server<3,>=2.4.0->notebook>=6.4.10->great_expectations==0.15.39) (7.7.0)\n",
      "Requirement already satisfied: prometheus-client>=0.9 in /local_disk0/.ephemeral_nfs/envs/pythonEnv-4e801dbd-70b1-46a7-9adf-fdf568e9ffa9/lib/python3.12/site-packages (from jupyter-server<3,>=2.4.0->notebook>=6.4.10->great_expectations==0.15.39) (0.22.1)\n",
      "Requirement already satisfied: send2trash>=1.8.2 in /local_disk0/.ephemeral_nfs/envs/pythonEnv-4e801dbd-70b1-46a7-9adf-fdf568e9ffa9/lib/python3.12/site-packages (from jupyter-server<3,>=2.4.0->notebook>=6.4.10->great_expectations==0.15.39) (1.8.3)\n",
      "Requirement already satisfied: terminado>=0.8.3 in /local_disk0/.ephemeral_nfs/envs/pythonEnv-4e801dbd-70b1-46a7-9adf-fdf568e9ffa9/lib/python3.12/site-packages (from jupyter-server<3,>=2.4.0->notebook>=6.4.10->great_expectations==0.15.39) (0.18.1)\n",
      "Requirement already satisfied: websocket-client>=1.7 in /local_disk0/.ephemeral_nfs/envs/pythonEnv-4e801dbd-70b1-46a7-9adf-fdf568e9ffa9/lib/python3.12/site-packages (from jupyter-server<3,>=2.4.0->notebook>=6.4.10->great_expectations==0.15.39) (1.8.0)\n",
      "Requirement already satisfied: async-lru>=1.0.0 in /local_disk0/.ephemeral_nfs/envs/pythonEnv-4e801dbd-70b1-46a7-9adf-fdf568e9ffa9/lib/python3.12/site-packages (from jupyterlab<4.5,>=4.4.5->notebook>=6.4.10->great_expectations==0.15.39) (2.0.5)\n",
      "Requirement already satisfied: httpx>=0.25.0 in /local_disk0/.ephemeral_nfs/envs/pythonEnv-4e801dbd-70b1-46a7-9adf-fdf568e9ffa9/lib/python3.12/site-packages (from jupyterlab<4.5,>=4.4.5->notebook>=6.4.10->great_expectations==0.15.39) (0.28.1)\n",
      "Requirement already satisfied: jupyter-lsp>=2.0.0 in /local_disk0/.ephemeral_nfs/envs/pythonEnv-4e801dbd-70b1-46a7-9adf-fdf568e9ffa9/lib/python3.12/site-packages (from jupyterlab<4.5,>=4.4.5->notebook>=6.4.10->great_expectations==0.15.39) (2.2.6)\n",
      "Requirement already satisfied: setuptools>=41.1.0 in /usr/local/lib/python3.12/dist-packages (from jupyterlab<4.5,>=4.4.5->notebook>=6.4.10->great_expectations==0.15.39) (74.0.0)\n",
      "Requirement already satisfied: babel>=2.10 in /local_disk0/.ephemeral_nfs/envs/pythonEnv-4e801dbd-70b1-46a7-9adf-fdf568e9ffa9/lib/python3.12/site-packages (from jupyterlab-server<3,>=2.27.1->notebook>=6.4.10->great_expectations==0.15.39) (2.17.0)\n",
      "Requirement already satisfied: json5>=0.9.0 in /local_disk0/.ephemeral_nfs/envs/pythonEnv-4e801dbd-70b1-46a7-9adf-fdf568e9ffa9/lib/python3.12/site-packages (from jupyterlab-server<3,>=2.27.1->notebook>=6.4.10->great_expectations==0.15.39) (0.12.0)\n",
      "Requirement already satisfied: ptyprocess>=0.5 in /databricks/python3/lib/python3.12/site-packages (from pexpect>4.3->Ipython>=7.16.3->great_expectations==0.15.39) (0.7.0)\n",
      "Requirement already satisfied: wcwidth in /databricks/python3/lib/python3.12/site-packages (from prompt-toolkit<3.1.0,>=3.0.41->Ipython>=7.16.3->great_expectations==0.15.39) (0.2.5)\n",
      "Requirement already satisfied: executing in /databricks/python3/lib/python3.12/site-packages (from stack-data->Ipython>=7.16.3->great_expectations==0.15.39) (0.8.3)\n",
      "Requirement already satisfied: asttokens in /databricks/python3/lib/python3.12/site-packages (from stack-data->Ipython>=7.16.3->great_expectations==0.15.39) (2.0.5)\n",
      "Requirement already satisfied: pure-eval in /databricks/python3/lib/python3.12/site-packages (from stack-data->Ipython>=7.16.3->great_expectations==0.15.39) (0.2.2)\n",
      "Requirement already satisfied: sniffio>=1.1 in /local_disk0/.ephemeral_nfs/envs/pythonEnv-4e801dbd-70b1-46a7-9adf-fdf568e9ffa9/lib/python3.12/site-packages (from anyio>=3.1.0->jupyter-server<3,>=2.4.0->notebook>=6.4.10->great_expectations==0.15.39) (1.3.1)\n",
      "Requirement already satisfied: argon2-cffi-bindings in /local_disk0/.ephemeral_nfs/envs/pythonEnv-4e801dbd-70b1-46a7-9adf-fdf568e9ffa9/lib/python3.12/site-packages (from argon2-cffi>=21.1->jupyter-server<3,>=2.4.0->notebook>=6.4.10->great_expectations==0.15.39) (25.1.0)\n",
      "Requirement already satisfied: httpcore==1.* in /local_disk0/.ephemeral_nfs/envs/pythonEnv-4e801dbd-70b1-46a7-9adf-fdf568e9ffa9/lib/python3.12/site-packages (from httpx>=0.25.0->jupyterlab<4.5,>=4.4.5->notebook>=6.4.10->great_expectations==0.15.39) (1.0.9)\n",
      "Requirement already satisfied: h11>=0.16 in /local_disk0/.ephemeral_nfs/envs/pythonEnv-4e801dbd-70b1-46a7-9adf-fdf568e9ffa9/lib/python3.12/site-packages (from httpcore==1.*->httpx>=0.25.0->jupyterlab<4.5,>=4.4.5->notebook>=6.4.10->great_expectations==0.15.39) (0.16.0)\n",
      "Requirement already satisfied: python-json-logger>=2.0.4 in /local_disk0/.ephemeral_nfs/envs/pythonEnv-4e801dbd-70b1-46a7-9adf-fdf568e9ffa9/lib/python3.12/site-packages (from jupyter-events>=0.11.0->jupyter-server<3,>=2.4.0->notebook>=6.4.10->great_expectations==0.15.39) (3.3.0)\n",
      "Requirement already satisfied: pyyaml>=5.3 in /databricks/python3/lib/python3.12/site-packages (from jupyter-events>=0.11.0->jupyter-server<3,>=2.4.0->notebook>=6.4.10->great_expectations==0.15.39) (6.0.1)\n",
      "Requirement already satisfied: rfc3339-validator in /local_disk0/.ephemeral_nfs/envs/pythonEnv-4e801dbd-70b1-46a7-9adf-fdf568e9ffa9/lib/python3.12/site-packages (from jupyter-events>=0.11.0->jupyter-server<3,>=2.4.0->notebook>=6.4.10->great_expectations==0.15.39) (0.1.4)\n",
      "Requirement already satisfied: rfc3986-validator>=0.1.1 in /local_disk0/.ephemeral_nfs/envs/pythonEnv-4e801dbd-70b1-46a7-9adf-fdf568e9ffa9/lib/python3.12/site-packages (from jupyter-events>=0.11.0->jupyter-server<3,>=2.4.0->notebook>=6.4.10->great_expectations==0.15.39) (0.1.1)\n",
      "Requirement already satisfied: beautifulsoup4 in /local_disk0/.ephemeral_nfs/envs/pythonEnv-4e801dbd-70b1-46a7-9adf-fdf568e9ffa9/lib/python3.12/site-packages (from nbconvert>=6.4.4->jupyter-server<3,>=2.4.0->notebook>=6.4.10->great_expectations==0.15.39) (4.13.4)\n",
      "Requirement already satisfied: bleach!=5.0.0 in /local_disk0/.ephemeral_nfs/envs/pythonEnv-4e801dbd-70b1-46a7-9adf-fdf568e9ffa9/lib/python3.12/site-packages (from bleach[css]!=5.0.0->nbconvert>=6.4.4->jupyter-server<3,>=2.4.0->notebook>=6.4.10->great_expectations==0.15.39) (6.2.0)\n",
      "Requirement already satisfied: defusedxml in /local_disk0/.ephemeral_nfs/envs/pythonEnv-4e801dbd-70b1-46a7-9adf-fdf568e9ffa9/lib/python3.12/site-packages (from nbconvert>=6.4.4->jupyter-server<3,>=2.4.0->notebook>=6.4.10->great_expectations==0.15.39) (0.7.1)\n",
      "Requirement already satisfied: jupyterlab-pygments in /local_disk0/.ephemeral_nfs/envs/pythonEnv-4e801dbd-70b1-46a7-9adf-fdf568e9ffa9/lib/python3.12/site-packages (from nbconvert>=6.4.4->jupyter-server<3,>=2.4.0->notebook>=6.4.10->great_expectations==0.15.39) (0.3.0)\n",
      "Requirement already satisfied: nbclient>=0.5.0 in /local_disk0/.ephemeral_nfs/envs/pythonEnv-4e801dbd-70b1-46a7-9adf-fdf568e9ffa9/lib/python3.12/site-packages (from nbconvert>=6.4.4->jupyter-server<3,>=2.4.0->notebook>=6.4.10->great_expectations==0.15.39) (0.10.2)\n",
      "Requirement already satisfied: pandocfilters>=1.4.1 in /local_disk0/.ephemeral_nfs/envs/pythonEnv-4e801dbd-70b1-46a7-9adf-fdf568e9ffa9/lib/python3.12/site-packages (from nbconvert>=6.4.4->jupyter-server<3,>=2.4.0->notebook>=6.4.10->great_expectations==0.15.39) (1.5.1)\n",
      "Requirement already satisfied: webencodings in /local_disk0/.ephemeral_nfs/envs/pythonEnv-4e801dbd-70b1-46a7-9adf-fdf568e9ffa9/lib/python3.12/site-packages (from bleach!=5.0.0->bleach[css]!=5.0.0->nbconvert>=6.4.4->jupyter-server<3,>=2.4.0->notebook>=6.4.10->great_expectations==0.15.39) (0.5.1)\n",
      "Requirement already satisfied: tinycss2<1.5,>=1.1.0 in /local_disk0/.ephemeral_nfs/envs/pythonEnv-4e801dbd-70b1-46a7-9adf-fdf568e9ffa9/lib/python3.12/site-packages (from bleach[css]!=5.0.0->nbconvert>=6.4.4->jupyter-server<3,>=2.4.0->notebook>=6.4.10->great_expectations==0.15.39) (1.4.0)\n",
      "Requirement already satisfied: fqdn in /local_disk0/.ephemeral_nfs/envs/pythonEnv-4e801dbd-70b1-46a7-9adf-fdf568e9ffa9/lib/python3.12/site-packages (from jsonschema[format-nongpl]>=4.18.0->jupyter-events>=0.11.0->jupyter-server<3,>=2.4.0->notebook>=6.4.10->great_expectations==0.15.39) (1.5.1)\n",
      "Requirement already satisfied: isoduration in /local_disk0/.ephemeral_nfs/envs/pythonEnv-4e801dbd-70b1-46a7-9adf-fdf568e9ffa9/lib/python3.12/site-packages (from jsonschema[format-nongpl]>=4.18.0->jupyter-events>=0.11.0->jupyter-server<3,>=2.4.0->notebook>=6.4.10->great_expectations==0.15.39) (20.11.0)\n",
      "Requirement already satisfied: rfc3987-syntax>=1.1.0 in /local_disk0/.ephemeral_nfs/envs/pythonEnv-4e801dbd-70b1-46a7-9adf-fdf568e9ffa9/lib/python3.12/site-packages (from jsonschema[format-nongpl]>=4.18.0->jupyter-events>=0.11.0->jupyter-server<3,>=2.4.0->notebook>=6.4.10->great_expectations==0.15.39) (1.1.0)\n",
      "Requirement already satisfied: uri-template in /local_disk0/.ephemeral_nfs/envs/pythonEnv-4e801dbd-70b1-46a7-9adf-fdf568e9ffa9/lib/python3.12/site-packages (from jsonschema[format-nongpl]>=4.18.0->jupyter-events>=0.11.0->jupyter-server<3,>=2.4.0->notebook>=6.4.10->great_expectations==0.15.39) (1.3.0)\n",
      "Requirement already satisfied: webcolors>=24.6.0 in /local_disk0/.ephemeral_nfs/envs/pythonEnv-4e801dbd-70b1-46a7-9adf-fdf568e9ffa9/lib/python3.12/site-packages (from jsonschema[format-nongpl]>=4.18.0->jupyter-events>=0.11.0->jupyter-server<3,>=2.4.0->notebook>=6.4.10->great_expectations==0.15.39) (24.11.1)\n",
      "Requirement already satisfied: soupsieve>1.2 in /local_disk0/.ephemeral_nfs/envs/pythonEnv-4e801dbd-70b1-46a7-9adf-fdf568e9ffa9/lib/python3.12/site-packages (from beautifulsoup4->nbconvert>=6.4.4->jupyter-server<3,>=2.4.0->notebook>=6.4.10->great_expectations==0.15.39) (2.7)\n",
      "Requirement already satisfied: lark>=1.2.2 in /local_disk0/.ephemeral_nfs/envs/pythonEnv-4e801dbd-70b1-46a7-9adf-fdf568e9ffa9/lib/python3.12/site-packages (from rfc3987-syntax>=1.1.0->jsonschema[format-nongpl]>=4.18.0->jupyter-events>=0.11.0->jupyter-server<3,>=2.4.0->notebook>=6.4.10->great_expectations==0.15.39) (1.2.2)\n",
      "Requirement already satisfied: arrow>=0.15.0 in /local_disk0/.ephemeral_nfs/envs/pythonEnv-4e801dbd-70b1-46a7-9adf-fdf568e9ffa9/lib/python3.12/site-packages (from isoduration->jsonschema[format-nongpl]>=4.18.0->jupyter-events>=0.11.0->jupyter-server<3,>=2.4.0->notebook>=6.4.10->great_expectations==0.15.39) (1.3.0)\n",
      "Requirement already satisfied: types-python-dateutil>=2.8.10 in /local_disk0/.ephemeral_nfs/envs/pythonEnv-4e801dbd-70b1-46a7-9adf-fdf568e9ffa9/lib/python3.12/site-packages (from arrow>=0.15.0->isoduration->jsonschema[format-nongpl]>=4.18.0->jupyter-events>=0.11.0->jupyter-server<3,>=2.4.0->notebook>=6.4.10->great_expectations==0.15.39) (2.9.0.20250708)\n",
      "\u001b[43mNote: you may need to restart the kernel using %restart_python or dbutils.library.restartPython() to use updated packages.\u001b[0m\n"
     ]
    }
   ],
   "source": [
    "%pip install great_expectations==0.15.39\n",
    "%restart_python"
   ]
  },
  {
   "cell_type": "code",
   "execution_count": 0,
   "metadata": {
    "application/vnd.databricks.v1+cell": {
     "cellMetadata": {
      "byteLimit": 2048000,
      "rowLimit": 10000
     },
     "inputWidgets": {},
     "nuid": "bc72fecd-2421-4cc4-a3ed-0a4df3a209f8",
     "showTitle": false,
     "tableResultSettingsMap": {},
     "title": ""
    }
   },
   "outputs": [],
   "source": [
    "from great_expectations.dataset import SparkDFDataset\n",
    "from pyspark.sql.functions import *\n",
    "sas_token = \"\"\n",
    "storageaccount = \"balustorage\"\n",
    "container = \"destination\"\n",
    "\n",
    "spark.conf.set(f\"fs.azure.sas.{container}.{storageaccount}.blob.core.windows.net\", sas_token)\n",
    "\n",
    "paths = dbutils.fs.ls(f\"wasbs://{container}@{storageaccount}.blob.core.windows.net/raw_data/bronze/\")\n",
    "\n",
    "validation_results = {}\n",
    "\n",
    "for file in paths:\n",
    "  df = spark.read.format(\"csv\").option(\"header\", \"true\").load(f\"wasbs://{container}@{storageaccount}.blob.core.windows.net/raw_data/bronze/{file.name}\")\n",
    "  ge_df = SparkDFDataset(df)\n",
    "\n",
    "  if \"holder_id\" in df.columns:\n",
    "        ge_df.expect_column_values_to_not_be_null(\"holder_id\")\n",
    "        ge_df.expect_column_values_to_be_unique(\"holder_id\")\n",
    "        df = df.withColumn(\"holder_id\", concat(lit(\"****\"), substring(\"holder_id\", -2, 2)))\n",
    "\n",
    "  if \"holder_code\" in df.columns:\n",
    "        ge_df.expect_column_values_to_not_be_null(\"holder_code\")\n",
    "        ge_df.expect_column_values_to_be_unique(\"holder_code\")\n",
    "        df = df.withColumn(\"holder_code\", lit(\"****\"))\n",
    "\n",
    "  if \"policy_id\" in df.columns:\n",
    "        ge_df.expect_column_values_to_not_be_null(\"policy_id\")\n",
    "        ge_df.expect_column_values_to_be_unique(\"policy_id\")\n",
    "        df = df.withColumn(\"policy_id\", concat(lit(\"****\"), substring(\"policy_id\", -2, 2)))\n",
    "  if \"holder_id\" in df.columns:\n",
    "        ge_df.expect_column_values_to_not_be_null(\"holder_id\")\n",
    "        df = df.withColumn(\"holder_id\",concat(lit(\"****\"), substring(\"holder_id\", -2, 2)))\n",
    "  if \"claim_id\" in df.columns:\n",
    "        ge_df.expect_column_values_to_not_be_null(\"claim_id\")\n",
    "        ge_df.expect_column_values_to_be_unique(\"claim_id\")\n",
    "        df = df.withColumn(\"claim_id\", lit(\"****\"))\n",
    "\n",
    "  if \"policy_id\" in df.columns:\n",
    "        ge_df.expect_column_values_to_not_be_null(\"policy_id\")\n",
    "        df = df.withColumn(\"policy_id\", lit(\"****\"))\n",
    "\n",
    "  if \"agent_id\" in df.columns:\n",
    "        ge_df.expect_column_values_to_not_be_null(\"agent_id\")\n",
    "        ge_df.expect_column_values_to_be_unique(\"agent_id\")\n",
    "        df = df.withColumn(\"agent_id\", lit(\"****\"))\n",
    "\n",
    "  if \"premium_id\" in df.columns:\n",
    "        ge_df.expect_column_values_to_not_be_null(\"premium_id\")\n",
    "        ge_df.expect_column_values_to_be_unique(\"premium_id\")\n",
    "        df = df.withColumn(\"premium_id\", lit(\"****\"))\n",
    "  if \"amount\" in df.columns:\n",
    "        ge_df.expect_column_values_to_not_be_null(\"amount\")\n",
    "\n",
    "  if \"payment_id\" in df.columns:\n",
    "        ge_df.expect_column_values_to_not_be_null(\"payment_id\")\n",
    "        ge_df.expect_column_values_to_be_unique(\"payment_id\")\n",
    "        df = df.withColumn(\"payment_id\", concat(lit(\"****\"), substring(\"payment_id\", -2, 2)))\n",
    "\n",
    "  if \"beneficiary_id\" in df.columns:\n",
    "        ge_df.expect_column_values_to_not_be_null(\"beneficiary_id\")\n",
    "        ge_df.expect_column_values_to_be_unique(\"beneficiary_id\")\n",
    "        df = df.withColumn(\"beneficiary_id\",concat(lit(\"****\"), substring(\"beneficiary_id\", -2, 2)))\n",
    "\n",
    "  if \"risk_id\" in df.columns:\n",
    "        ge_df.expect_column_values_to_not_be_null(\"risk_id\")\n",
    "        ge_df.expect_column_values_to_be_unique(\"risk_id\")\n",
    "        df = df.withColumn(\"risk_id\",concat(lit(\"****\"), substring(\"risk_id\", -2, 2)))\n",
    "\n",
    "  if \"risk_level\" in df.columns:\n",
    "        ge_df.expect_column_values_to_not_be_null(\"risk_level\")\n",
    "\n",
    "  result = ge_df.validate()\n",
    "  validation_results[file.name] = result\n",
    "  df.write.mode(\"overwrite\").format(\"delta\").save(f\"wasbs://{container}@{storageaccount}.blob.core.windows.net/processed_data/silver/{file.name}\")\n",
    "\n",
    "# print(validation_results)\n",
    "\n",
    "\n",
    "\n",
    "\n",
    "\n"
   ]
  },
  {
   "cell_type": "code",
   "execution_count": 0,
   "metadata": {
    "application/vnd.databricks.v1+cell": {
     "cellMetadata": {
      "byteLimit": 2048000,
      "rowLimit": 10000
     },
     "inputWidgets": {},
     "nuid": "7297f463-dda2-49fe-aca1-282f8f4b56b9",
     "showTitle": false,
     "tableResultSettingsMap": {
      "0": {
       "dataGridStateBlob": "{\"version\":1,\"tableState\":{\"columnPinning\":{\"left\":[\"#row_number#\"],\"right\":[]},\"columnSizing\":{},\"columnVisibility\":{}},\"settings\":{\"columns\":{}},\"syncTimestamp\":1754654549886}",
       "filterBlob": null,
       "queryPlanFiltersBlob": null,
       "tableResultIndex": 0
      }
     },
     "title": ""
    }
   },
   "outputs": [
    {
     "data": {
      "text/html": [
       "<style scoped>\n",
       "  .table-result-container {\n",
       "    max-height: 300px;\n",
       "    overflow: auto;\n",
       "  }\n",
       "  table, th, td {\n",
       "    border: 1px solid black;\n",
       "    border-collapse: collapse;\n",
       "  }\n",
       "  th, td {\n",
       "    padding: 5px;\n",
       "  }\n",
       "  th {\n",
       "    text-align: left;\n",
       "  }\n",
       "</style><div class='table-result-container'><table class='table-result'><thead style='background-color: white'><tr><th>holder_id</th><th>holder_code</th><th>first_name</th><th>last_name</th><th>dob</th><th>gender</th><th>email</th><th>phone</th><th>created_at</th></tr></thead><tbody><tr><td>*****1</td><td>****</td><td>john</td><td>smith</td><td>1985-03-15 00:00:00.0000000</td><td>male</td><td>john.smith@email.com</td><td>9876543210</td><td>2025-08-08 06:24:46.9670000</td></tr><tr><td>*****2</td><td>****</td><td>mary</td><td>johnson</td><td>1990-07-22 00:00:00.0000000</td><td>female</td><td>mary.johnson@email.com</td><td>9123456780</td><td>2025-08-08 06:24:46.9670000</td></tr><tr><td>*****3</td><td>****</td><td>robert</td><td>brown</td><td>1978-11-05 00:00:00.0000000</td><td>male</td><td>robert.brown@email.com</td><td>9988776655</td><td>2025-08-08 06:24:46.9670000</td></tr><tr><td>*****4</td><td>****</td><td>linda</td><td>davis</td><td>1982-01-19 00:00:00.0000000</td><td>female</td><td>linda.davis@email.com</td><td>9011223344</td><td>2025-08-08 06:24:46.9670000</td></tr><tr><td>*****5</td><td>****</td><td>david</td><td>miller</td><td>1995-09-30 00:00:00.0000000</td><td>male</td><td>david.miller@email.com</td><td>9090909090</td><td>2025-08-08 06:24:46.9670000</td></tr></tbody></table></div>"
      ]
     },
     "metadata": {
      "application/vnd.databricks.v1+output": {
       "addedWidgets": {},
       "aggData": [],
       "aggError": "",
       "aggOverflow": false,
       "aggSchema": [],
       "aggSeriesLimitReached": false,
       "aggType": "",
       "arguments": {},
       "columnCustomDisplayInfos": {},
       "data": [
        [
         "*****1",
         "****",
         "john",
         "smith",
         "1985-03-15 00:00:00.0000000",
         "male",
         "john.smith@email.com",
         "9876543210",
         "2025-08-08 06:24:46.9670000"
        ],
        [
         "*****2",
         "****",
         "mary",
         "johnson",
         "1990-07-22 00:00:00.0000000",
         "female",
         "mary.johnson@email.com",
         "9123456780",
         "2025-08-08 06:24:46.9670000"
        ],
        [
         "*****3",
         "****",
         "robert",
         "brown",
         "1978-11-05 00:00:00.0000000",
         "male",
         "robert.brown@email.com",
         "9988776655",
         "2025-08-08 06:24:46.9670000"
        ],
        [
         "*****4",
         "****",
         "linda",
         "davis",
         "1982-01-19 00:00:00.0000000",
         "female",
         "linda.davis@email.com",
         "9011223344",
         "2025-08-08 06:24:46.9670000"
        ],
        [
         "*****5",
         "****",
         "david",
         "miller",
         "1995-09-30 00:00:00.0000000",
         "male",
         "david.miller@email.com",
         "9090909090",
         "2025-08-08 06:24:46.9670000"
        ]
       ],
       "datasetInfos": [],
       "dbfsResultPath": null,
       "isJsonSchema": true,
       "metadata": {},
       "overflow": false,
       "plotOptions": {
        "customPlotOptions": {},
        "displayType": "table",
        "pivotAggregation": null,
        "pivotColumns": null,
        "xColumns": null,
        "yColumns": null
       },
       "removedWidgets": [],
       "schema": [
        {
         "metadata": "{}",
         "name": "holder_id",
         "type": "\"string\""
        },
        {
         "metadata": "{}",
         "name": "holder_code",
         "type": "\"string\""
        },
        {
         "metadata": "{}",
         "name": "first_name",
         "type": "\"string\""
        },
        {
         "metadata": "{}",
         "name": "last_name",
         "type": "\"string\""
        },
        {
         "metadata": "{}",
         "name": "dob",
         "type": "\"string\""
        },
        {
         "metadata": "{}",
         "name": "gender",
         "type": "\"string\""
        },
        {
         "metadata": "{}",
         "name": "email",
         "type": "\"string\""
        },
        {
         "metadata": "{}",
         "name": "phone",
         "type": "\"string\""
        },
        {
         "metadata": "{}",
         "name": "created_at",
         "type": "\"string\""
        }
       ],
       "type": "table"
      }
     },
     "output_type": "display_data"
    }
   ],
   "source": [
    "df = spark.read.format(\"delta\").load(f\"wasbs://{container}@{storageaccount}.blob.core.windows.net/processed_data/silver/holders\")\n",
    "display(df)"
   ]
  },
  {
   "cell_type": "code",
   "execution_count": 0,
   "metadata": {
    "application/vnd.databricks.v1+cell": {
     "cellMetadata": {
      "byteLimit": 2048000,
      "rowLimit": 10000
     },
     "inputWidgets": {},
     "nuid": "fdf90e10-5acc-412f-859f-eebc57992963",
     "showTitle": false,
     "tableResultSettingsMap": {},
     "title": ""
    }
   },
   "outputs": [
    {
     "name": "stdout",
     "output_type": "stream",
     "text": [
      "Gold layer table created successfully!\n"
     ]
    }
   ],
   "source": [
    "storageaccount = \"balustorage\"\n",
    "container = \"destination\"\n",
    "silver_path = f\"wasbs://{container}@{storageaccount}.blob.core.windows.net/processed_data/silver/policies\"\n",
    "silver_df = spark.read.format(\"delta\").load(silver_path)\n",
    "\n",
    "gold_df = silver_df.groupBy(\"holder_id\").agg(\n",
    "    sum(\"premium_amount\").alias(\"total_premium_amount\")\n",
    ").select(\"holder_id\", \"total_premium_amount\")\n",
    "\n",
    "gold_path = f\"wasbs://{container}@{storageaccount}.blob.core.windows.net/processed_data/gold/policies\"\n",
    "gold_df.write.format(\"delta\").mode(\"overwrite\").option(\"mergeSchema\", \"true\").save(gold_path)\n",
    "\n",
    "print(\"Gold layer table created successfully!\")"
   ]
  },
  {
   "cell_type": "code",
   "execution_count": 0,
   "metadata": {
    "application/vnd.databricks.v1+cell": {
     "cellMetadata": {
      "byteLimit": 2048000,
      "rowLimit": 10000
     },
     "inputWidgets": {},
     "nuid": "721ea1cb-fddf-4bdd-bc21-98abaf4a7a42",
     "showTitle": false,
     "tableResultSettingsMap": {
      "0": {
       "dataGridStateBlob": "{\"version\":1,\"tableState\":{\"columnPinning\":{\"left\":[\"#row_number#\"],\"right\":[]},\"columnSizing\":{},\"columnVisibility\":{}},\"settings\":{\"columns\":{}},\"syncTimestamp\":1754655036309}",
       "filterBlob": null,
       "queryPlanFiltersBlob": null,
       "tableResultIndex": 0
      }
     },
     "title": ""
    }
   },
   "outputs": [
    {
     "data": {
      "text/html": [
       "<style scoped>\n",
       "  .table-result-container {\n",
       "    max-height: 300px;\n",
       "    overflow: auto;\n",
       "  }\n",
       "  table, th, td {\n",
       "    border: 1px solid black;\n",
       "    border-collapse: collapse;\n",
       "  }\n",
       "  th, td {\n",
       "    padding: 5px;\n",
       "  }\n",
       "  th {\n",
       "    text-align: left;\n",
       "  }\n",
       "</style><div class='table-result-container'><table class='table-result'><thead style='background-color: white'><tr><th>holder_id</th><th>total_premium_amount</th></tr></thead><tbody><tr><td>*****1</td><td>27000.0</td></tr><tr><td>*****3</td><td>11000.0</td></tr><tr><td>*****2</td><td>20000.0</td></tr><tr><td>*****4</td><td>14000.0</td></tr></tbody></table></div>"
      ]
     },
     "metadata": {
      "application/vnd.databricks.v1+output": {
       "addedWidgets": {},
       "aggData": [],
       "aggError": "",
       "aggOverflow": false,
       "aggSchema": [],
       "aggSeriesLimitReached": false,
       "aggType": "",
       "arguments": {},
       "columnCustomDisplayInfos": {},
       "data": [
        [
         "*****1",
         27000
        ],
        [
         "*****3",
         11000
        ],
        [
         "*****2",
         20000
        ],
        [
         "*****4",
         14000
        ]
       ],
       "datasetInfos": [],
       "dbfsResultPath": null,
       "isJsonSchema": true,
       "metadata": {},
       "overflow": false,
       "plotOptions": {
        "customPlotOptions": {},
        "displayType": "table",
        "pivotAggregation": null,
        "pivotColumns": null,
        "xColumns": null,
        "yColumns": null
       },
       "removedWidgets": [],
       "schema": [
        {
         "metadata": "{}",
         "name": "holder_id",
         "type": "\"string\""
        },
        {
         "metadata": "{}",
         "name": "total_premium_amount",
         "type": "\"double\""
        }
       ],
       "type": "table"
      }
     },
     "output_type": "display_data"
    }
   ],
   "source": [
    "gold_df = spark.read.format(\"delta\").load(f\"wasbs://{container}@{storageaccount}.blob.core.windows.net/processed_data/gold/policies\")\n",
    "display(gold_df)"
   ]
  }
 ],
 "metadata": {
  "application/vnd.databricks.v1+notebook": {
   "computePreferences": null,
   "dashboards": [],
   "environmentMetadata": {
    "base_environment": "",
    "environment_version": "2"
   },
   "inputWidgetPreferences": null,
   "language": "python",
   "notebookMetadata": {
    "pythonIndentUnit": 4
   },
   "notebookName": "casestudy4_code",
   "widgets": {}
  },
  "language_info": {
   "name": "python"
  }
 },
 "nbformat": 4,
 "nbformat_minor": 0
}
