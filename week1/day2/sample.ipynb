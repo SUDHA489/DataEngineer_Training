{
 "cells": [
  {
   "cell_type": "code",
   "execution_count": 1,
   "id": "30ba2f51",
   "metadata": {},
   "outputs": [
    {
     "name": "stdout",
     "output_type": "stream",
     "text": [
      "CPU times: total: 0 ns\n",
      "Wall time: 324 μs\n"
     ]
    },
    {
     "data": {
      "text/plain": [
       "49995000"
      ]
     },
     "execution_count": 1,
     "metadata": {},
     "output_type": "execute_result"
    }
   ],
   "source": [
    "%time sum(range(10**4))"
   ]
  },
  {
   "cell_type": "code",
   "execution_count": 2,
   "id": "53c7936d",
   "metadata": {},
   "outputs": [
    {
     "name": "stdout",
     "output_type": "stream",
     "text": [
      "Access denied. Try again\n",
      "you logged in.\n",
      "Welcome to your dashboard!\n",
      "you logged out.\n",
      "Access denied. Try again\n"
     ]
    }
   ],
   "source": [
    "%run problem.py"
   ]
  }
 ],
 "metadata": {
  "kernelspec": {
   "display_name": "Python 3",
   "language": "python",
   "name": "python3"
  },
  "language_info": {
   "codemirror_mode": {
    "name": "ipython",
    "version": 3
   },
   "file_extension": ".py",
   "mimetype": "text/x-python",
   "name": "python",
   "nbconvert_exporter": "python",
   "pygments_lexer": "ipython3",
   "version": "3.13.5"
  }
 },
 "nbformat": 4,
 "nbformat_minor": 5
}
